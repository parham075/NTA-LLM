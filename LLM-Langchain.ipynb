{
 "cells": [
  {
   "cell_type": "markdown",
   "metadata": {},
   "source": [
    "# Querying PDF With Astra and LangChain\n",
    "### A question-answering demo using Astra DB and LangChain, powered by Vector Search"
   ]
  },
  {
   "cell_type": "markdown",
   "metadata": {},
   "source": [
    "#### Pre-requisites:\n",
    "\n",
    "You need a **_Serverless Cassandra with Vector Search_** database on [Astra DB](https://astra.datastax.com) to run this demo. As outlined in more detail [here](https://docs.datastax.com/en/astra-serverless/docs/vector-search/quickstart.html#_prepare_for_using_your_vector_database), you should get a DB Token with role _Database Administrator_ and copy your Database ID: these connection parameters are needed momentarily.\n",
    "\n",
    "You also need an [OpenAI API Key](https://cassio.org/start_here/#llm-access) for this demo to work.\n",
    "\n",
    "#### What you will do:\n",
    "\n",
    "- Setup: import dependencies, provide secrets, create the LangChain vector store;\n",
    "- Run a Question-Answering loop retrieving the relevant headlines and having an LLM construct the answer."
   ]
  },
  {
   "cell_type": "markdown",
   "metadata": {},
   "source": [
    "## Import Dependencies"
   ]
  },
  {
   "cell_type": "code",
   "execution_count": 4,
   "metadata": {},
   "outputs": [
    {
     "name": "stderr",
     "output_type": "stream",
     "text": [
      "/home/p/miniconda3/envs/nlp/lib/python3.10/site-packages/tqdm/auto.py:21: TqdmWarning: IProgress not found. Please update jupyter and ipywidgets. See https://ipywidgets.readthedocs.io/en/stable/user_install.html\n",
      "  from .autonotebook import tqdm as notebook_tqdm\n"
     ]
    }
   ],
   "source": [
    "# LangChain components to use\n",
    "from langchain.vectorstores.cassandra import Cassandra\n",
    "from langchain.indexes.vectorstore import VectorStoreIndexWrapper\n",
    "from langchain.llms import OpenAI\n",
    "from langchain.embeddings import OpenAIEmbeddings\n",
    "import yaml\n",
    "# Support for dataset retrieval with Hugging Face\n",
    "from datasets import load_dataset\n",
    "\n",
    "# With CassIO, the engine powering the Astra DB integration in LangChain,\n",
    "# you will also initialize the DB connection:\n",
    "import cassio\n",
    "from PyPDF2 import PdfReader"
   ]
  },
  {
   "cell_type": "markdown",
   "metadata": {},
   "source": [
    "### ASREA cridentials:\n",
    "You need to provide `ASTRA_DB_APPLICATION_TOKEN`, `ASTRA_DB_ID`, `OPENAI_API_KEY` in a yaml file under `/tmp/langchain-conf.yml` and populate the information you need as below:\n",
    "  ```python\n",
    "  OpenAI:\n",
    "    ASTRA_DB_APPLICATION_TOKEN: <ASTRA_DB_APPLICATION_TOKEN>\n",
    "    ASTRA_DB_ID: <ASTRA_DB_ID>\n",
    "    OPENAI_API_KEY: <OPENAI_API_KEY>\n",
    "    API_Endpoint: <API_Endpoint>\n",
    "  ```"
   ]
  },
  {
   "cell_type": "code",
   "execution_count": 9,
   "metadata": {},
   "outputs": [],
   "source": [
    "# Specify the path to your YAML file\n",
    "OpenAI_conf = '/tmp/langchain-conf.yml'\n",
    "\n",
    "# Open the YAML file and load its contents\n",
    "with open(OpenAI_conf, 'r') as file:\n",
    "    data = yaml.safe_load(file)\n"
   ]
  }
 ],
 "metadata": {
  "kernelspec": {
   "display_name": "nlp",
   "language": "python",
   "name": "python3"
  },
  "language_info": {
   "codemirror_mode": {
    "name": "ipython",
    "version": 3
   },
   "file_extension": ".py",
   "mimetype": "text/x-python",
   "name": "python",
   "nbconvert_exporter": "python",
   "pygments_lexer": "ipython3",
   "version": "3.10.14"
  }
 },
 "nbformat": 4,
 "nbformat_minor": 2
}
